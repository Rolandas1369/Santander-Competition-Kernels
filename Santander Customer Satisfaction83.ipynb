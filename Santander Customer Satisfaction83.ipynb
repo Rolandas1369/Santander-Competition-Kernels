{
 "cells": [
  {
   "cell_type": "markdown",
   "metadata": {},
   "source": [
    "Submissions are evaluated on area under the ROC curve between the predicted probability and the observed target.\n",
    "Submission File\n",
    "\n",
    "For each ID in the test set, you must predict a probability for the TARGET variable. The file should contain a header and have the following format:"
   ]
  },
  {
   "cell_type": "code",
   "execution_count": 58,
   "metadata": {
    "_cell_guid": "79c7e3d0-c299-4dcb-8224-4455121ee9b0",
    "_uuid": "d629ff2d2480ee46fbb7e2d37f6b5fab8052498a"
   },
   "outputs": [
    {
     "name": "stdout",
     "output_type": "stream",
     "text": [
      "CPU times: user 43 µs, sys: 0 ns, total: 43 µs\n",
      "Wall time: 48.9 µs\n"
     ]
    }
   ],
   "source": [
    "%%time\n",
    "import numpy as np \n",
    "import pandas as pd\n",
    "\n",
    "from sklearn.model_selection import train_test_split\n",
    "from sklearn.ensemble import RandomForestClassifier, ExtraTreesClassifier, RandomForestRegressor\n",
    "\n",
    "import matplotlib.pyplot as plt\n",
    "\n",
    "from sklearn import preprocessing\n",
    "\n",
    "\n",
    "from sklearn.feature_selection import SelectFromModel\n",
    "from sklearn.pipeline import Pipeline\n",
    "\n",
    "from sklearn.metrics import roc_auc_score\n"
   ]
  },
  {
   "cell_type": "code",
   "execution_count": 59,
   "metadata": {},
   "outputs": [
    {
     "name": "stdout",
     "output_type": "stream",
     "text": [
      "CPU times: user 5.44 s, sys: 240 ms, total: 5.68 s\n",
      "Wall time: 6.15 s\n"
     ]
    }
   ],
   "source": [
    "%%time\n",
    "#load data\n",
    "test_data = pd.read_csv('input/test.csv')\n",
    "train_data = pd.read_csv('input/train.csv')"
   ]
  },
  {
   "cell_type": "code",
   "execution_count": 60,
   "metadata": {},
   "outputs": [
    {
     "data": {
      "text/html": [
       "<div>\n",
       "<style scoped>\n",
       "    .dataframe tbody tr th:only-of-type {\n",
       "        vertical-align: middle;\n",
       "    }\n",
       "\n",
       "    .dataframe tbody tr th {\n",
       "        vertical-align: top;\n",
       "    }\n",
       "\n",
       "    .dataframe thead th {\n",
       "        text-align: right;\n",
       "    }\n",
       "</style>\n",
       "<table border=\"1\" class=\"dataframe\">\n",
       "  <thead>\n",
       "    <tr style=\"text-align: right;\">\n",
       "      <th></th>\n",
       "      <th>ID</th>\n",
       "      <th>var3</th>\n",
       "      <th>var15</th>\n",
       "      <th>imp_ent_var16_ult1</th>\n",
       "      <th>imp_op_var39_comer_ult1</th>\n",
       "      <th>imp_op_var39_comer_ult3</th>\n",
       "      <th>imp_op_var40_comer_ult1</th>\n",
       "      <th>imp_op_var40_comer_ult3</th>\n",
       "      <th>imp_op_var40_efect_ult1</th>\n",
       "      <th>imp_op_var40_efect_ult3</th>\n",
       "      <th>...</th>\n",
       "      <th>saldo_medio_var33_hace2</th>\n",
       "      <th>saldo_medio_var33_hace3</th>\n",
       "      <th>saldo_medio_var33_ult1</th>\n",
       "      <th>saldo_medio_var33_ult3</th>\n",
       "      <th>saldo_medio_var44_hace2</th>\n",
       "      <th>saldo_medio_var44_hace3</th>\n",
       "      <th>saldo_medio_var44_ult1</th>\n",
       "      <th>saldo_medio_var44_ult3</th>\n",
       "      <th>var38</th>\n",
       "      <th>TARGET</th>\n",
       "    </tr>\n",
       "  </thead>\n",
       "  <tbody>\n",
       "    <tr>\n",
       "      <th>0</th>\n",
       "      <td>1</td>\n",
       "      <td>2</td>\n",
       "      <td>23</td>\n",
       "      <td>0.0</td>\n",
       "      <td>0.0</td>\n",
       "      <td>0.0</td>\n",
       "      <td>0.0</td>\n",
       "      <td>0.0</td>\n",
       "      <td>0.0</td>\n",
       "      <td>0.0</td>\n",
       "      <td>...</td>\n",
       "      <td>0.0</td>\n",
       "      <td>0.0</td>\n",
       "      <td>0.0</td>\n",
       "      <td>0.0</td>\n",
       "      <td>0.0</td>\n",
       "      <td>0.0</td>\n",
       "      <td>0.0</td>\n",
       "      <td>0.0</td>\n",
       "      <td>39205.170000</td>\n",
       "      <td>0</td>\n",
       "    </tr>\n",
       "    <tr>\n",
       "      <th>1</th>\n",
       "      <td>3</td>\n",
       "      <td>2</td>\n",
       "      <td>34</td>\n",
       "      <td>0.0</td>\n",
       "      <td>0.0</td>\n",
       "      <td>0.0</td>\n",
       "      <td>0.0</td>\n",
       "      <td>0.0</td>\n",
       "      <td>0.0</td>\n",
       "      <td>0.0</td>\n",
       "      <td>...</td>\n",
       "      <td>0.0</td>\n",
       "      <td>0.0</td>\n",
       "      <td>0.0</td>\n",
       "      <td>0.0</td>\n",
       "      <td>0.0</td>\n",
       "      <td>0.0</td>\n",
       "      <td>0.0</td>\n",
       "      <td>0.0</td>\n",
       "      <td>49278.030000</td>\n",
       "      <td>0</td>\n",
       "    </tr>\n",
       "    <tr>\n",
       "      <th>2</th>\n",
       "      <td>4</td>\n",
       "      <td>2</td>\n",
       "      <td>23</td>\n",
       "      <td>0.0</td>\n",
       "      <td>0.0</td>\n",
       "      <td>0.0</td>\n",
       "      <td>0.0</td>\n",
       "      <td>0.0</td>\n",
       "      <td>0.0</td>\n",
       "      <td>0.0</td>\n",
       "      <td>...</td>\n",
       "      <td>0.0</td>\n",
       "      <td>0.0</td>\n",
       "      <td>0.0</td>\n",
       "      <td>0.0</td>\n",
       "      <td>0.0</td>\n",
       "      <td>0.0</td>\n",
       "      <td>0.0</td>\n",
       "      <td>0.0</td>\n",
       "      <td>67333.770000</td>\n",
       "      <td>0</td>\n",
       "    </tr>\n",
       "    <tr>\n",
       "      <th>3</th>\n",
       "      <td>8</td>\n",
       "      <td>2</td>\n",
       "      <td>37</td>\n",
       "      <td>0.0</td>\n",
       "      <td>195.0</td>\n",
       "      <td>195.0</td>\n",
       "      <td>0.0</td>\n",
       "      <td>0.0</td>\n",
       "      <td>0.0</td>\n",
       "      <td>0.0</td>\n",
       "      <td>...</td>\n",
       "      <td>0.0</td>\n",
       "      <td>0.0</td>\n",
       "      <td>0.0</td>\n",
       "      <td>0.0</td>\n",
       "      <td>0.0</td>\n",
       "      <td>0.0</td>\n",
       "      <td>0.0</td>\n",
       "      <td>0.0</td>\n",
       "      <td>64007.970000</td>\n",
       "      <td>0</td>\n",
       "    </tr>\n",
       "    <tr>\n",
       "      <th>4</th>\n",
       "      <td>10</td>\n",
       "      <td>2</td>\n",
       "      <td>39</td>\n",
       "      <td>0.0</td>\n",
       "      <td>0.0</td>\n",
       "      <td>0.0</td>\n",
       "      <td>0.0</td>\n",
       "      <td>0.0</td>\n",
       "      <td>0.0</td>\n",
       "      <td>0.0</td>\n",
       "      <td>...</td>\n",
       "      <td>0.0</td>\n",
       "      <td>0.0</td>\n",
       "      <td>0.0</td>\n",
       "      <td>0.0</td>\n",
       "      <td>0.0</td>\n",
       "      <td>0.0</td>\n",
       "      <td>0.0</td>\n",
       "      <td>0.0</td>\n",
       "      <td>117310.979016</td>\n",
       "      <td>0</td>\n",
       "    </tr>\n",
       "  </tbody>\n",
       "</table>\n",
       "<p>5 rows × 371 columns</p>\n",
       "</div>"
      ],
      "text/plain": [
       "   ID  var3  var15  imp_ent_var16_ult1  imp_op_var39_comer_ult1  \\\n",
       "0   1     2     23                 0.0                      0.0   \n",
       "1   3     2     34                 0.0                      0.0   \n",
       "2   4     2     23                 0.0                      0.0   \n",
       "3   8     2     37                 0.0                    195.0   \n",
       "4  10     2     39                 0.0                      0.0   \n",
       "\n",
       "   imp_op_var39_comer_ult3  imp_op_var40_comer_ult1  imp_op_var40_comer_ult3  \\\n",
       "0                      0.0                      0.0                      0.0   \n",
       "1                      0.0                      0.0                      0.0   \n",
       "2                      0.0                      0.0                      0.0   \n",
       "3                    195.0                      0.0                      0.0   \n",
       "4                      0.0                      0.0                      0.0   \n",
       "\n",
       "   imp_op_var40_efect_ult1  imp_op_var40_efect_ult3  ...  \\\n",
       "0                      0.0                      0.0  ...   \n",
       "1                      0.0                      0.0  ...   \n",
       "2                      0.0                      0.0  ...   \n",
       "3                      0.0                      0.0  ...   \n",
       "4                      0.0                      0.0  ...   \n",
       "\n",
       "   saldo_medio_var33_hace2  saldo_medio_var33_hace3  saldo_medio_var33_ult1  \\\n",
       "0                      0.0                      0.0                     0.0   \n",
       "1                      0.0                      0.0                     0.0   \n",
       "2                      0.0                      0.0                     0.0   \n",
       "3                      0.0                      0.0                     0.0   \n",
       "4                      0.0                      0.0                     0.0   \n",
       "\n",
       "   saldo_medio_var33_ult3  saldo_medio_var44_hace2  saldo_medio_var44_hace3  \\\n",
       "0                     0.0                      0.0                      0.0   \n",
       "1                     0.0                      0.0                      0.0   \n",
       "2                     0.0                      0.0                      0.0   \n",
       "3                     0.0                      0.0                      0.0   \n",
       "4                     0.0                      0.0                      0.0   \n",
       "\n",
       "   saldo_medio_var44_ult1  saldo_medio_var44_ult3          var38  TARGET  \n",
       "0                     0.0                     0.0   39205.170000       0  \n",
       "1                     0.0                     0.0   49278.030000       0  \n",
       "2                     0.0                     0.0   67333.770000       0  \n",
       "3                     0.0                     0.0   64007.970000       0  \n",
       "4                     0.0                     0.0  117310.979016       0  \n",
       "\n",
       "[5 rows x 371 columns]"
      ]
     },
     "execution_count": 60,
     "metadata": {},
     "output_type": "execute_result"
    }
   ],
   "source": [
    "# How data looks\n",
    "train_data.head()"
   ]
  },
  {
   "cell_type": "code",
   "execution_count": 5,
   "metadata": {},
   "outputs": [],
   "source": [
    "# # Write data to memory, to read data faster\n",
    "# os.makedirs('tmp', exist_ok=True)\n",
    "# train_data.to_feather('tmp/santanders-raw')\n",
    "\n",
    "# #for reading in memory data\n",
    "# train_data = pd.read_feather('tmp/santanders-raw')"
   ]
  },
  {
   "cell_type": "code",
   "execution_count": 61,
   "metadata": {},
   "outputs": [
    {
     "name": "stdout",
     "output_type": "stream",
     "text": [
      "CPU times: user 7 µs, sys: 0 ns, total: 7 µs\n",
      "Wall time: 12.6 µs\n"
     ]
    },
    {
     "data": {
      "text/plain": [
       "False"
      ]
     },
     "execution_count": 61,
     "metadata": {},
     "output_type": "execute_result"
    }
   ],
   "source": [
    "%%time\n",
    "# Any nulls?\n",
    "(train_data.isnull().sum()).any() > 0"
   ]
  },
  {
   "cell_type": "code",
   "execution_count": 62,
   "metadata": {},
   "outputs": [
    {
     "name": "stdout",
     "output_type": "stream",
     "text": [
      "Train data shape:  (76020, 337) Test data shape:  (75818, 336)\n",
      "CPU times: user 657 ms, sys: 192 ms, total: 849 ms\n",
      "Wall time: 986 ms\n"
     ]
    }
   ],
   "source": [
    "%%time\n",
    "# Drop columns what contains 0 only\n",
    "dropable_cols = []\n",
    "for i in train_data.columns:\n",
    "    if (train_data[i] == 0).all():\n",
    "        dropable_cols.append(i)\n",
    "        \n",
    "train_data.drop(dropable_cols, axis=1, inplace=True)\n",
    "test_data.drop(dropable_cols, axis=1, inplace=True)\n",
    "print(\"Train data shape: \",train_data.shape, \"Test data shape: \", test_data.shape)\n"
   ]
  },
  {
   "cell_type": "code",
   "execution_count": 63,
   "metadata": {},
   "outputs": [
    {
     "name": "stdout",
     "output_type": "stream",
     "text": [
      "CPU times: user 5 µs, sys: 0 ns, total: 5 µs\n",
      "Wall time: 8.11 µs\n"
     ]
    },
    {
     "data": {
      "text/plain": [
       "0      0.0\n",
       "1      0.0\n",
       "2      0.0\n",
       "3    195.0\n",
       "4      0.0\n",
       "Name: imp_op_var39_comer_ult3, dtype: float64"
      ]
     },
     "execution_count": 63,
     "metadata": {},
     "output_type": "execute_result"
    }
   ],
   "source": [
    "%time\n",
    "# accessing column throught index\n",
    "columns = train_data.columns\n",
    "train_data[columns[5]].head()"
   ]
  },
  {
   "cell_type": "code",
   "execution_count": 64,
   "metadata": {},
   "outputs": [
    {
     "data": {
      "text/plain": [
       "(76020, 337)"
      ]
     },
     "execution_count": 64,
     "metadata": {},
     "output_type": "execute_result"
    }
   ],
   "source": [
    "train_data.shape"
   ]
  },
  {
   "cell_type": "code",
   "execution_count": 65,
   "metadata": {},
   "outputs": [],
   "source": [
    "# only important correlations and not auto-correlations\n",
    "corialation = train_data.corr()\n",
    "\n",
    "# threshold = 0.9\n",
    "# important_corrs = (corialation[abs(corialation) > threshold][corialation != 1.0]) \\\n",
    "#     .unstack().dropna().to_dict()\n",
    "# unique_important_corrs = pd.DataFrame(\n",
    "#     list(set([(tuple(sorted(key)), important_corrs[key]) \\\n",
    "#     for key in important_corrs])), columns=['attribute pair', 'correlation'])\n",
    "# # sorted by absolute value\n",
    "# unique_important_corrs = unique_important_corrs.loc[\n",
    "#     abs(unique_important_corrs['correlation']).argsort()[::-1]]\n",
    "# unique_important_corrs\n"
   ]
  },
  {
   "cell_type": "code",
   "execution_count": 66,
   "metadata": {},
   "outputs": [],
   "source": [
    "zz = corialation[abs(corialation) < 1.0][abs(corialation) > 0.9].unstack().dropna().to_dict()"
   ]
  },
  {
   "cell_type": "code",
   "execution_count": null,
   "metadata": {},
   "outputs": [],
   "source": []
  },
  {
   "cell_type": "code",
   "execution_count": 67,
   "metadata": {},
   "outputs": [
    {
     "name": "stdout",
     "output_type": "stream",
     "text": [
      "0 : 1.0\n",
      "1 : -0.0010253316661390532\n",
      "2 : -0.002135498139656586\n",
      "3 : -0.0031113754846131053\n",
      "4 : -0.0014364570877784138\n",
      "5 : -0.004131144843062799\n",
      "6 : -0.007276720249061907\n",
      "7 : -0.006302170045800239\n",
      "8 : -0.006699920607122232\n",
      "9 : -0.0066976162555498426\n",
      "10 : -0.008326335559136196\n",
      "11 : 0.0005959086529303412\n",
      "12 : -0.0025145288052220048\n",
      "13 : -0.0018686876354369736\n",
      "14 : -0.0029274176565550897\n",
      "15 : -0.00030284902216604\n",
      "16 : -0.0022391409838512497\n",
      "17 : -0.0031731554379725\n",
      "18 : -0.0014093473425885275\n",
      "19 : -0.006793478445622197\n",
      "20 : -0.0010217425997869295\n",
      "21 : -0.007268715828864525\n",
      "22 : 0.0020019335211023895\n",
      "23 : 0.00349294619509267\n",
      "24 : -0.007909086691350122\n",
      "25 : -0.007153786019977334\n",
      "26 : -0.0030503504031795573\n",
      "27 : -0.0038800647650260355\n",
      "28 : -0.002967145305342792\n",
      "29 : -0.006262165632667981\n",
      "30 : 0.000466140119256055\n",
      "31 : 0.00043899004456880123\n",
      "32 : -0.00015678835407436417\n",
      "33 : 0.000632045111638861\n",
      "34 : 0.00022838305599950633\n",
      "35 : 0.0009469074811010101\n",
      "36 : 0.0009469074811010101\n",
      "37 : -5.51032609319001e-05\n",
      "38 : 0.0018723314848440612\n",
      "39 : 0.0005178070012446443\n",
      "40 : 0.0029474674292723872\n",
      "41 : 0.0006631402288346033\n",
      "42 : 0.004944504739650782\n",
      "43 : 0.004944504739650782\n",
      "44 : -0.0012344782929677488\n",
      "45 : 0.003170245374683538\n",
      "46 : 0.002176839362701376\n",
      "47 : -0.005585217782920327\n",
      "48 : -0.007610979727447692\n",
      "49 : -0.004549603749955333\n",
      "50 : -0.0036222595037229055\n",
      "51 : -0.0038222247449479756\n",
      "52 : -0.0036222595037229055\n",
      "53 : -0.004562047230363788\n",
      "54 : -0.004562047230363788\n",
      "55 : -0.007909086691350122\n",
      "56 : -0.007153786019977334\n",
      "57 : 0.000508305029176962\n",
      "58 : -0.00024331923761429215\n",
      "59 : 0.0003837257418684857\n",
      "60 : -0.0007924340750151669\n",
      "61 : 0.0018000220825657221\n",
      "62 : 0.0027440257944436846\n",
      "63 : 0.0027440257944436846\n",
      "64 : -0.000966557548864809\n",
      "65 : -3.7968792428921926e-05\n",
      "66 : 0.005236691820209451\n",
      "67 : 0.005236691820209451\n",
      "68 : -7.226230422081348e-05\n",
      "69 : -0.00032877321022342485\n",
      "70 : -0.00032877321022342485\n",
      "71 : -0.001415180639262214\n",
      "72 : -0.0013314001237624145\n",
      "73 : -0.007844166623961759\n",
      "74 : -0.0013573669890577641\n",
      "75 : -0.007844166623961759\n",
      "76 : -0.003112250540521241\n",
      "77 : -0.0038355032793200012\n",
      "78 : -0.0006571939653534527\n",
      "79 : -0.006913870482092754\n",
      "80 : -0.0016466131300773026\n",
      "81 : 0.002931955699765097\n",
      "82 : 0.004107302040864145\n",
      "83 : -0.007909086691350164\n",
      "84 : -0.007153786019977232\n",
      "85 : -0.003080663799109007\n",
      "86 : -0.0038800647650260272\n",
      "87 : 0.00025875120735028786\n",
      "88 : -0.006349804766322764\n",
      "89 : 0.0015267370421842\n",
      "90 : 0.0003244546306088885\n",
      "91 : -0.0002801717634848177\n",
      "92 : 0.0022808108917133914\n",
      "93 : 0.002569904293259244\n",
      "94 : 0.000946907481101007\n",
      "95 : 0.000946907481101007\n",
      "96 : 0.0011597256075973595\n",
      "97 : 0.005063646022978124\n",
      "98 : 0.00014754598768055503\n",
      "99 : 0.006761135291337069\n",
      "100 : 0.0063642362917879485\n",
      "101 : 0.004944504739650775\n",
      "102 : 0.004944504739650775\n",
      "103 : 0.0031702453746835493\n",
      "104 : 0.002176839362701382\n",
      "105 : -0.005644591530362626\n",
      "106 : -0.007701789862114259\n",
      "107 : -0.004286398873886632\n",
      "108 : -0.004286398873886632\n",
      "109 : -0.00469016803123016\n",
      "110 : -0.00469016803123016\n",
      "111 : -0.0009363569445423207\n",
      "112 : 0.006406441301125269\n",
      "113 : -0.005311219947316033\n",
      "114 : -0.0036697569111393802\n",
      "115 : -0.0053293369033950095\n",
      "116 : 0.0011900184304736003\n",
      "117 : -0.0025564389438249373\n",
      "118 : -0.003872025999106207\n",
      "119 : -0.005394371703834094\n",
      "120 : 0.002119782892493093\n",
      "121 : -0.0033776766562814324\n",
      "122 : -0.004354562042223581\n",
      "123 : -0.007909086691350164\n",
      "124 : -0.007153786019977232\n",
      "125 : 0.0010492307580006685\n",
      "126 : 0.0003722305920847554\n",
      "127 : 0.003934785453447351\n",
      "128 : 0.003598020131460608\n",
      "129 : 0.0012632770355316305\n",
      "130 : 0.0012632770355316305\n",
      "131 : -0.003962931401770625\n",
      "132 : -0.0019812499109145044\n",
      "133 : 0.0052366918202094576\n",
      "134 : 0.0052366918202094576\n",
      "135 : 0.0010087796854180502\n",
      "136 : -0.0006872656470550435\n",
      "137 : -0.00044426970862661774\n",
      "138 : -0.00044426970862661774\n",
      "139 : 0.0016145513650975749\n",
      "140 : -0.001150115178925331\n",
      "141 : -0.007844166623961774\n",
      "142 : 0.002471337504208196\n",
      "143 : -0.007844166623961774\n",
      "144 : 0.000279396213216592\n",
      "145 : 0.0007381273730656382\n",
      "146 : -0.0034163113318493215\n",
      "147 : -0.003835503279320008\n",
      "148 : 0.002116256608028863\n",
      "149 : -0.0026812124296582114\n",
      "150 : -0.0066008557109136215\n",
      "151 : -0.0014401391783341142\n",
      "152 : -0.005284785444235199\n",
      "153 : -0.0016171050217200444\n",
      "154 : 0.005763495389913672\n",
      "155 : -0.0017455780433409944\n",
      "156 : 0.0016247620448697742\n",
      "157 : 0.001774728138606063\n",
      "158 : -0.002750122403635282\n",
      "159 : 0.0021412446290333276\n",
      "160 : 0.0026955763937632307\n",
      "161 : -0.005543872455214869\n",
      "162 : -0.002309834425060928\n",
      "163 : -0.0028638296208524116\n",
      "164 : -0.0066008557109136215\n",
      "165 : -0.0035325992543507544\n",
      "166 : -0.002757312396857445\n",
      "167 : 0.0029436860688259164\n",
      "168 : -0.0016676568899451824\n",
      "169 : 0.0036102208134996573\n",
      "170 : -0.004186508236040083\n",
      "171 : -0.006831685286421479\n",
      "172 : -0.00579956758232035\n",
      "173 : -0.00010298832151105538\n",
      "174 : -0.0007262701134614828\n",
      "175 : 0.00494450473965077\n",
      "176 : 0.0052366918202094576\n",
      "177 : 0.0028132371557689486\n",
      "178 : 0.001285018102572309\n",
      "179 : 0.0013006036081317717\n",
      "180 : -0.0022008535157921135\n",
      "181 : 0.001565108467347317\n",
      "182 : 0.005065132713880398\n",
      "183 : -0.0021624096606952586\n",
      "184 : -0.0004264422138018178\n",
      "185 : 0.0019375626815315598\n",
      "186 : -0.006283471174532674\n",
      "187 : -0.004324815119392292\n",
      "188 : -0.0015976161643225946\n",
      "189 : 0.002813237155871285\n",
      "190 : 0.0012850181024710093\n",
      "191 : 0.001300603608620584\n",
      "192 : -0.0022008535161516453\n",
      "193 : 0.001565108467347317\n",
      "194 : 0.005065132713880398\n",
      "195 : -0.0021624096606952586\n",
      "196 : -0.0004264422138018178\n",
      "197 : 0.0019375626815315598\n",
      "198 : -0.006283471174532674\n",
      "199 : -0.004324815119392292\n",
      "200 : -0.00159761616448427\n",
      "201 : 0.0022434654594479064\n",
      "202 : 0.002836101933044023\n",
      "203 : 0.0004873847929474344\n",
      "204 : 0.005947269789613779\n",
      "205 : -0.0036513270948325626\n",
      "206 : -0.0015818570793072002\n",
      "207 : 0.003091765140195112\n",
      "208 : -0.00024047369035307026\n",
      "209 : -0.0004104235879221726\n",
      "210 : 0.0018917098517517575\n",
      "211 : -0.001556883575165648\n",
      "212 : 0.0054123081151897425\n",
      "213 : 0.00086422063185986\n",
      "214 : 0.005783309971949392\n",
      "215 : 0.003805608111502412\n",
      "216 : -0.0021624096606952694\n",
      "217 : 0.0020424703735521204\n",
      "218 : 0.004169170042821335\n",
      "219 : -0.004370631214613975\n",
      "220 : 0.004529101675015162\n",
      "221 : -0.000432426733557206\n",
      "222 : 0.003125591438425075\n",
      "223 : -0.0047368258192182055\n",
      "224 : -0.004324815119392281\n",
      "225 : 0.0027298430368469183\n",
      "226 : 0.005880470308547194\n",
      "227 : 0.0011374632845207466\n",
      "228 : 0.004255663830828341\n",
      "229 : -0.002419080226359141\n",
      "230 : -0.0018223429143798147\n",
      "231 : -0.0003309609516783482\n",
      "232 : -0.00033709299915231047\n",
      "233 : 0.000532028221109278\n",
      "234 : -0.0053805428546980115\n",
      "235 : -0.0017348825139150209\n",
      "236 : 0.0014948382801383245\n",
      "237 : 0.005541961336115943\n",
      "238 : -0.0026036978318733505\n",
      "239 : 0.0010216908109451897\n",
      "240 : 5.666829994476309e-05\n",
      "241 : 0.000563002800391859\n",
      "242 : 0.001137463284520749\n",
      "243 : 0.006384980675871377\n",
      "244 : -0.007655970947932431\n",
      "245 : -0.004811275421169633\n",
      "246 : 0.001735941665705039\n",
      "247 : -0.0006526908717222601\n",
      "248 : -0.0007479137085811892\n",
      "249 : 0.002375859797704108\n",
      "250 : 4.948885948228566e-05\n",
      "251 : 0.002126641768976073\n",
      "252 : -0.0011662576152921599\n",
      "253 : 0.001743794838967275\n",
      "254 : -0.0026047538002916355\n",
      "255 : -0.00659023738362847\n",
      "256 : -0.00020807480537786912\n",
      "257 : -0.003723117288276455\n",
      "258 : 0.0009469074811010101\n",
      "259 : 0.0008614804363826145\n",
      "260 : -0.0054292157349497515\n",
      "261 : 0.002068811723550484\n",
      "262 : -0.0009343086566810525\n",
      "263 : -0.0054061039902322605\n",
      "264 : -0.004336074736214787\n",
      "265 : -0.005509785681049421\n",
      "266 : -0.0046363474073683585\n",
      "267 : -0.003625741498562285\n",
      "268 : -0.00736038633361977\n",
      "269 : -0.006539477782133674\n",
      "270 : -0.003398744691035289\n",
      "271 : -0.004713841664554583\n",
      "272 : -0.001167734946070216\n",
      "273 : -0.0032914441456527027\n",
      "274 : -0.0014979430547471823\n",
      "275 : -0.0035333436564562557\n",
      "276 : 0.0015651084673473105\n",
      "277 : 0.0057833099719494735\n",
      "278 : 0.001956704343556608\n",
      "279 : -0.0021624096606952725\n",
      "280 : -0.0025094012615854812\n",
      "281 : 0.002359246855866113\n",
      "282 : 0.0018901571951891274\n",
      "283 : 0.0013387294023548373\n",
      "284 : -0.004371550649081857\n",
      "285 : -0.0004264422140949138\n",
      "286 : 0.0019375626815315236\n",
      "287 : 0.0029866471402842814\n",
      "288 : -0.0064965920434280145\n",
      "289 : -0.004324815119392312\n",
      "290 : 0.0010928244297461016\n",
      "291 : -0.001964816229652582\n",
      "292 : -0.001458012723598896\n",
      "293 : 0.000558620789918456\n",
      "294 : -0.0015738090293822085\n",
      "295 : -0.0011406882247280848\n",
      "296 : -0.0009305518651764365\n",
      "297 : -0.006770794330361398\n",
      "298 : -0.0023635247910407118\n",
      "299 : -0.0019042105704892402\n",
      "300 : 0.0008393642146700527\n",
      "301 : -0.006679404386228232\n",
      "302 : -0.001095044015163864\n",
      "303 : -0.0013245944488351846\n",
      "304 : -0.006824739116447362\n",
      "305 : -0.0060992665484570115\n",
      "306 : -0.005683212092099411\n",
      "307 : -0.00548037227643846\n",
      "308 : -0.0026700464098963726\n",
      "309 : 6.05037977813902e-05\n",
      "310 : -0.0017631669991996742\n",
      "311 : -0.0018828070206110164\n",
      "312 : 0.0033733174022105247\n",
      "313 : 0.0009354521868914614\n",
      "314 : 0.0029752780735526206\n",
      "315 : 0.0039111879040410556\n",
      "316 : 6.609528753499075e-05\n",
      "317 : -0.0017455780433409944\n",
      "318 : -0.0013356090916963517\n",
      "319 : -0.003024288333505691\n",
      "320 : -0.0037137841397659327\n",
      "321 : -0.002258263344702254\n",
      "322 : -0.002629052352212131\n",
      "323 : 0.0006931773371046184\n",
      "324 : 0.0001370980864032332\n",
      "325 : -0.005998692384702352\n",
      "326 : -0.007631221508201346\n",
      "327 : 0.001985606518070257\n",
      "328 : 0.0037713002296943816\n",
      "329 : -0.0015212879741729815\n",
      "330 : -0.0012160893174110034\n",
      "331 : -0.00377175258879771\n",
      "332 : -0.0036737420958118387\n",
      "333 : -0.000856455592254689\n",
      "334 : 0.00029728605266595576\n",
      "335 : -0.005687454830502587\n",
      "336 : 0.0031484687226994413\n"
     ]
    },
    {
     "ename": "IndexError",
     "evalue": "index 337 is out of bounds for axis 0 with size 337",
     "output_type": "error",
     "traceback": [
      "\u001b[0;31m---------------------------------------------------------------------------\u001b[0m",
      "\u001b[0;31mIndexError\u001b[0m                                Traceback (most recent call last)",
      "\u001b[0;32m<ipython-input-67-bee7f95488f4>\u001b[0m in \u001b[0;36m<module>\u001b[0;34m()\u001b[0m\n\u001b[1;32m      6\u001b[0m \u001b[0;34m\u001b[0m\u001b[0m\n\u001b[1;32m      7\u001b[0m \u001b[0;32mfor\u001b[0m \u001b[0mi\u001b[0m \u001b[0;32min\u001b[0m \u001b[0mrange\u001b[0m\u001b[0;34m(\u001b[0m\u001b[0mlen\u001b[0m\u001b[0;34m(\u001b[0m\u001b[0mtrain_data\u001b[0m\u001b[0;34m.\u001b[0m\u001b[0mcolumns\u001b[0m\u001b[0;34m)\u001b[0m \u001b[0;34m+\u001b[0m \u001b[0;36m1\u001b[0m\u001b[0;34m)\u001b[0m\u001b[0;34m:\u001b[0m\u001b[0;34m\u001b[0m\u001b[0m\n\u001b[0;32m----> 8\u001b[0;31m     \u001b[0mprint\u001b[0m\u001b[0;34m(\u001b[0m\u001b[0mi\u001b[0m\u001b[0;34m,\u001b[0m\u001b[0;34m':'\u001b[0m\u001b[0;34m,\u001b[0m \u001b[0mtrain_data\u001b[0m\u001b[0;34m[\u001b[0m\u001b[0mtrain_data\u001b[0m\u001b[0;34m.\u001b[0m\u001b[0mcolumns\u001b[0m\u001b[0;34m[\u001b[0m\u001b[0;36m0\u001b[0m\u001b[0;34m]\u001b[0m\u001b[0;34m]\u001b[0m\u001b[0;34m.\u001b[0m\u001b[0mcorr\u001b[0m\u001b[0;34m(\u001b[0m\u001b[0mtrain_data\u001b[0m\u001b[0;34m[\u001b[0m\u001b[0mtrain_data\u001b[0m\u001b[0;34m.\u001b[0m\u001b[0mcolumns\u001b[0m\u001b[0;34m[\u001b[0m\u001b[0mi\u001b[0m\u001b[0;34m]\u001b[0m\u001b[0;34m]\u001b[0m\u001b[0;34m)\u001b[0m\u001b[0;34m)\u001b[0m\u001b[0;34m\u001b[0m\u001b[0m\n\u001b[0m\u001b[1;32m      9\u001b[0m \u001b[0;31m#train_data[train_data.columns[0]].corr(train_data['var3'])\u001b[0m\u001b[0;34m\u001b[0m\u001b[0;34m\u001b[0m\u001b[0m\n",
      "\u001b[0;32m~/anaconda31/lib/python3.5/site-packages/pandas/core/indexes/base.py\u001b[0m in \u001b[0;36m__getitem__\u001b[0;34m(self, key)\u001b[0m\n\u001b[1;32m   3956\u001b[0m         \u001b[0;32mif\u001b[0m \u001b[0mis_scalar\u001b[0m\u001b[0;34m(\u001b[0m\u001b[0mkey\u001b[0m\u001b[0;34m)\u001b[0m\u001b[0;34m:\u001b[0m\u001b[0;34m\u001b[0m\u001b[0m\n\u001b[1;32m   3957\u001b[0m             \u001b[0mkey\u001b[0m \u001b[0;34m=\u001b[0m \u001b[0mcom\u001b[0m\u001b[0;34m.\u001b[0m\u001b[0mcast_scalar_indexer\u001b[0m\u001b[0;34m(\u001b[0m\u001b[0mkey\u001b[0m\u001b[0;34m)\u001b[0m\u001b[0;34m\u001b[0m\u001b[0m\n\u001b[0;32m-> 3958\u001b[0;31m             \u001b[0;32mreturn\u001b[0m \u001b[0mgetitem\u001b[0m\u001b[0;34m(\u001b[0m\u001b[0mkey\u001b[0m\u001b[0;34m)\u001b[0m\u001b[0;34m\u001b[0m\u001b[0m\n\u001b[0m\u001b[1;32m   3959\u001b[0m \u001b[0;34m\u001b[0m\u001b[0m\n\u001b[1;32m   3960\u001b[0m         \u001b[0;32mif\u001b[0m \u001b[0misinstance\u001b[0m\u001b[0;34m(\u001b[0m\u001b[0mkey\u001b[0m\u001b[0;34m,\u001b[0m \u001b[0mslice\u001b[0m\u001b[0;34m)\u001b[0m\u001b[0;34m:\u001b[0m\u001b[0;34m\u001b[0m\u001b[0m\n",
      "\u001b[0;31mIndexError\u001b[0m: index 337 is out of bounds for axis 0 with size 337"
     ]
    }
   ],
   "source": [
    "# for i in range(len(train_data.columns) + 1):\n",
    "#     for z in train_data[train_data.columns[i:]]:\n",
    "\n",
    "#         if train_data[z].corr(train_data[train_data.columns[i]]) > 0.95:\n",
    "#             print(train_data[z])\n",
    "\n",
    "for i in range(len(train_data.columns) + 1):\n",
    "    print(i,':', train_data[train_data.columns[0]].corr(train_data[train_data.columns[i]]))\n",
    "#train_data[train_data.columns[0]].corr(train_data['var3'])"
   ]
  },
  {
   "cell_type": "code",
   "execution_count": null,
   "metadata": {},
   "outputs": [],
   "source": [
    "train_data.loc[(train_data.corr()>0.95).sum() >= 2]"
   ]
  },
  {
   "cell_type": "raw",
   "metadata": {},
   "source": []
  },
  {
   "cell_type": "code",
   "execution_count": 19,
   "metadata": {},
   "outputs": [
    {
     "name": "stdout",
     "output_type": "stream",
     "text": [
      "CPU times: user 4 µs, sys: 0 ns, total: 4 µs\n",
      "Wall time: 10.3 µs\n",
      "Train data shape:  (76020, 308) Test data shape:  (75818, 307)\n"
     ]
    }
   ],
   "source": [
    "%time\n",
    "# Removing dublicated columns\n",
    "columns_to_drop = []\n",
    "columns = train_data.columns\n",
    "for i in range(len(columns) - 1):\n",
    "    column_to_check = train_data[columns[i]]\n",
    "    for c in range(i+1, len(columns)):\n",
    "        if np.array_equal(column_to_check, train_data[columns[c]].values):\n",
    "            columns_to_drop.append(columns[c])\n",
    "train_data.drop(columns_to_drop, axis=1, inplace=True)\n",
    "test_data.drop(columns_to_drop, axis=1, inplace=True)\n",
    "print(\"Train data shape: \",train_data.shape, \"Test data shape: \", test_data.shape)"
   ]
  },
  {
   "cell_type": "code",
   "execution_count": 70,
   "metadata": {},
   "outputs": [
    {
     "name": "stdout",
     "output_type": "stream",
     "text": [
      "CPU times: user 4 µs, sys: 0 ns, total: 4 µs\n",
      "Wall time: 8.58 µs\n"
     ]
    },
    {
     "data": {
      "text/plain": [
       "((40000, 337), (12000, 337), (12020, 337))"
      ]
     },
     "execution_count": 70,
     "metadata": {},
     "output_type": "execute_result"
    }
   ],
   "source": [
    "%time\n",
    "# Train, test, valid\n",
    "df_train = train_data[:40000] \n",
    "df_test = train_data[52000:64000]\n",
    "# Model will not see valid data set \n",
    "df_valid = train_data[64000:]\n",
    "df_train.shape, df_test.shape, df_valid.shape"
   ]
  },
  {
   "cell_type": "code",
   "execution_count": 71,
   "metadata": {},
   "outputs": [
    {
     "name": "stdout",
     "output_type": "stream",
     "text": [
      "CPU times: user 91.8 ms, sys: 184 ms, total: 276 ms\n",
      "Wall time: 360 ms\n"
     ]
    }
   ],
   "source": [
    "%%time\n",
    "# Training data\n",
    "X_train = df_train.drop(['ID', 'TARGET'], axis=1)\n",
    "y_train = df_train.TARGET\n",
    "# Test data\n",
    "X_test = df_test.drop(['ID', 'TARGET'], axis=1)\n",
    "y_test = df_test.TARGET\n",
    "# Validation data\n",
    "X_valid = df_valid.drop(['ID', 'TARGET'], axis=1)\n",
    "y_valid = df_valid.TARGET\n",
    "# submision data\n",
    "data_for_sub = test_data.drop(['ID'], axis=1)"
   ]
  },
  {
   "cell_type": "code",
   "execution_count": null,
   "metadata": {},
   "outputs": [],
   "source": [
    "grid= "
   ]
  },
  {
   "cell_type": "code",
   "execution_count": null,
   "metadata": {},
   "outputs": [],
   "source": [
    "pipeline = Pipeline(steps=[('grid', grid), ('model', model)])"
   ]
  },
  {
   "cell_type": "code",
   "execution_count": 22,
   "metadata": {},
   "outputs": [
    {
     "name": "stdout",
     "output_type": "stream",
     "text": [
      "CPU times: user 6 µs, sys: 0 ns, total: 6 µs\n",
      "Wall time: 11.7 µs\n"
     ]
    },
    {
     "data": {
      "image/png": "[encoded data removed]",
      "text/plain": [
       "<Figure size 864x576 with 1 Axes>"
      ]
     },
     "metadata": {
      "needs_background": "light"
     },
     "output_type": "display_data"
    }
   ],
   "source": [
    "%time\n",
    "## # Feature selection\n",
    "# Classifier runs faster\n",
    "clf = RandomForestClassifier(n_estimators=100)\n",
    "selector = clf.fit(X_train, y_train)\n",
    "\n",
    "# plot most important features\n",
    "feat_imp = pd.Series(clf.feature_importances_, index = X_train.columns.values).sort_values(ascending=False)\n",
    "feat_imp[:30].plot(kind='bar', title='Feature Importances according to RandomForestClassifier', figsize=(12, 8))\n",
    "plt.ylabel('Feature Importance Score')\n",
    "plt.subplots_adjust(bottom=0.3)\n",
    "plt.show()"
   ]
  },
  {
   "cell_type": "code",
   "execution_count": 23,
   "metadata": {},
   "outputs": [],
   "source": [
    "# features to fit model\n",
    "features = feat_imp[:30].index"
   ]
  },
  {
   "cell_type": "code",
   "execution_count": 24,
   "metadata": {},
   "outputs": [
    {
     "name": "stdout",
     "output_type": "stream",
     "text": [
      "CPU times: user 11 µs, sys: 1 µs, total: 12 µs\n",
      "Wall time: 21.9 µs\n"
     ]
    },
    {
     "data": {
      "text/plain": [
       "(0.877275562362754, 0.833645272164274)"
      ]
     },
     "execution_count": 24,
     "metadata": {},
     "output_type": "execute_result"
    }
   ],
   "source": [
    "%time\n",
    "X_train = X_train[features]\n",
    "X_test = X_test[features]\n",
    "X_valid = X_valid[features]\n",
    "\n",
    "\n",
    "clf = RandomForestRegressor(n_estimators=100, n_jobs=-1, min_samples_leaf=100, max_features=0.5, oob_score=True)\n",
    "clf.fit(X_train, y_train)\n",
    "preds = clf.predict(X_test)\n",
    "val_pred = clf.predict(X_valid)\n",
    "roc_auc_score(y_test, preds), roc_auc_score(y_valid, val_pred)"
   ]
  },
  {
   "cell_type": "code",
   "execution_count": 25,
   "metadata": {},
   "outputs": [],
   "source": [
    "pros = clf.predict(data_for_sub[features])"
   ]
  },
  {
   "cell_type": "code",
   "execution_count": 26,
   "metadata": {},
   "outputs": [
    {
     "data": {
      "text/html": [
       "<div>\n",
       "<style scoped>\n",
       "    .dataframe tbody tr th:only-of-type {\n",
       "        vertical-align: middle;\n",
       "    }\n",
       "\n",
       "    .dataframe tbody tr th {\n",
       "        vertical-align: top;\n",
       "    }\n",
       "\n",
       "    .dataframe thead th {\n",
       "        text-align: right;\n",
       "    }\n",
       "</style>\n",
       "<table border=\"1\" class=\"dataframe\">\n",
       "  <thead>\n",
       "    <tr style=\"text-align: right;\">\n",
       "      <th></th>\n",
       "      <th>ID</th>\n",
       "      <th>target</th>\n",
       "    </tr>\n",
       "  </thead>\n",
       "  <tbody>\n",
       "    <tr>\n",
       "      <th>0</th>\n",
       "      <td>2</td>\n",
       "      <td>0.026983</td>\n",
       "    </tr>\n",
       "    <tr>\n",
       "      <th>1</th>\n",
       "      <td>5</td>\n",
       "      <td>0.059114</td>\n",
       "    </tr>\n",
       "    <tr>\n",
       "      <th>2</th>\n",
       "      <td>6</td>\n",
       "      <td>0.001489</td>\n",
       "    </tr>\n",
       "    <tr>\n",
       "      <th>3</th>\n",
       "      <td>7</td>\n",
       "      <td>0.005494</td>\n",
       "    </tr>\n",
       "    <tr>\n",
       "      <th>4</th>\n",
       "      <td>9</td>\n",
       "      <td>0.000178</td>\n",
       "    </tr>\n",
       "  </tbody>\n",
       "</table>\n",
       "</div>"
      ],
      "text/plain": [
       "   ID    target\n",
       "0   2  0.026983\n",
       "1   5  0.059114\n",
       "2   6  0.001489\n",
       "3   7  0.005494\n",
       "4   9  0.000178"
      ]
     },
     "execution_count": 26,
     "metadata": {},
     "output_type": "execute_result"
    }
   ],
   "source": [
    "# submission\n",
    "sub = pd.DataFrame()\n",
    "sub['ID'] = test_data['ID']\n",
    "sub['target'] = pros\n",
    "sub.to_csv('submission.csv',index=False)\n",
    "# distribution of values\n",
    "test = pd.read_csv('submission.csv')\n",
    "test.head()"
   ]
  },
  {
   "cell_type": "code",
   "execution_count": null,
   "metadata": {},
   "outputs": [],
   "source": []
  }
 ],
 "metadata": {
  "kernelspec": {
   "display_name": "Python 3",
   "language": "python",
   "name": "python3"
  },
  "language_info": {
   "codemirror_mode": {
    "name": "ipython",
    "version": 3
   },
   "file_extension": ".py",
   "mimetype": "text/x-python",
   "name": "python",
   "nbconvert_exporter": "python",
   "pygments_lexer": "ipython3",
   "version": "3.5.6"
  }
 },
 "nbformat": 4,
 "nbformat_minor": 2
}
